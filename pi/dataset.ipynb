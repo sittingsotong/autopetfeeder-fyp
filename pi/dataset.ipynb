{
 "cells": [
  {
   "cell_type": "code",
   "execution_count": null,
   "metadata": {},
   "outputs": [],
   "source": [
    "# importing modules\n",
    "import cv2 as cv\n",
    "import os\n",
    "from imutils.video import VideoStream\n",
    "import imutils\n",
    "import logging"
   ]
  },
  {
   "cell_type": "code",
   "execution_count": null,
   "metadata": {},
   "outputs": [],
   "source": [
    "# Setting up configs\n",
    "logging.basicConfig(\n",
    "    level=logging.INFO,\n",
    "    format=\"[%(levelname)s] (%(threadName)-10s) %(message)s\",\n",
    ")\n",
    "\n",
    "logging.info(\"Starting video stream...\")\n",
    "vs = VideoStream(src=0).start()\n",
    "time.sleep(1.0)\n",
    "\n",
    "# Folder to store dataset\n",
    "folder = \"/dataset\""
   ]
  },
  {
   "cell_type": "code",
   "execution_count": null,
   "metadata": {},
   "outputs": [],
   "source": [
    "### PARAMETERS TO CHANGE BEFORE EACH CALL\n",
    "label = 10 ## int in grams of how much pellets are in these sets of photos\n",
    "count = 100  ## number of images we want to create for this label\n",
    "\n",
    "#Taking input to start the capturing\n",
    "logging.info(\"Press 's' to start data collection for\"+label+\"g\")\n",
    "userinput = input()\n",
    "if userinput != 's':\n",
    "    logging.warning(\"Wrong Input..........\")\n",
    "    exit()\n",
    "\n",
    "#clicking 200 images per label, you could change as you want.    \n",
    "for i in range(count):\n",
    "    # read returns two values one is the exit code and other is the frame\n",
    "    status, frame = vs.read()\n",
    "\n",
    "    # check if we get the frame or not\n",
    "    if not status:\n",
    "        logging.warning(\"Frame is not been captured..Exiting...\")\n",
    "        break\n",
    "\n",
    "    #convert the image into gray format for fast calculation\n",
    "    gray = cv.cvtColor(frame, cv.COLOR_BGR2GRAY)\n",
    "\n",
    "    # display window with gray image\n",
    "    cv.imshow(\"Taken Image\", gray)\n",
    "\n",
    "    # resizing the image to store it, smaller image = easier training\n",
    "    gray = cv.resize(gray, (28,28))\n",
    "\n",
    "    # Store the image to specific label folder\n",
    "    cv.imwrite(folder+str(label_)+str(count)+'.png', gray)\n",
    "    \n",
    "    key = cv2.waitKey(1) & 0xFF\n",
    "    \n",
    "    # if the `q` key was pressed, break from the loop\n",
    "    if key == ord(\"q\"):\n",
    "        break\n",
    "\n",
    "\n",
    "# When everything done, release the capture\n",
    "cv.destroyAllWindows()\n",
    "vs.stop()"
   ]
  },
  {
   "cell_type": "code",
   "execution_count": null,
   "metadata": {},
   "outputs": [],
   "source": []
  }
 ],
 "metadata": {
  "language_info": {
   "name": "python"
  },
  "orig_nbformat": 4
 },
 "nbformat": 4,
 "nbformat_minor": 2
}
